{
 "cells": [
  {
   "cell_type": "code",
   "execution_count": 19,
   "metadata": {},
   "outputs": [
    {
     "name": "stdout",
     "output_type": "stream",
     "text": [
      "(42535, 4)\n"
     ]
    }
   ],
   "source": []
  },
  {
   "cell_type": "code",
   "execution_count": 22,
   "metadata": {},
   "outputs": [],
   "source": [
    "from IoU import bb_intersection_over_union\n",
    "import numpy as np\n",
    "import time\n",
    "import pandas as pd\n",
    "\n",
    "Predicted_Data = pd.read_pickle('RCNN_Predicted_Data.pkl')\n",
    "True_Data = pd.read_pickle('RCNN_True_Data.pkl')\n",
    "Predicted_Data.sort_values(['pred_scores'], axis=0, ascending=False, inplace=True)\n",
    "Predicted_Data.reset_index(inplace=True)\n",
    "n_pred = Predicted_Data.shape[0]\n",
    "Predicted_Data = Predicted_Data.take(np.linspace(0, n_pred-1, num=100), axis=0)\n",
    "#print(Predicted_Data[:4])\n",
    "#print(True_Data['true_labels'].value_counts())\n",
    "def calc_precision_recall(Predicted_Data, True_Data, class_labels):\n",
    "    Predicted_Data.sort_values(['pred_scores'], axis=0, ascending=False, inplace=True)\n",
    "    Predicted_Data.reset_index(inplace=True)\n",
    "    n_classes = len(class_labels)\n",
    "    mAP_thresh = 0.5\n",
    "    \n",
    "    n_pred = Predicted_Data.shape[0]\n",
    "    Precision = np.zeros((n_pred))\n",
    "    Recall = np.zeros((n_pred))\n",
    "    TP_FN = True_Data['true_labels'].value_counts()\n",
    "    for p in range(1,n_pred+1):\n",
    "        #start_time = time.time()\n",
    "        pred_data = Predicted_Data[:p]\n",
    "        class_precision = []\n",
    "        class_recall = []\n",
    "        for c in range(n_classes):\n",
    "            if  not(TP_FN.keys().contains(c)):\n",
    "                continue\n",
    "            cl = class_labels[c]\n",
    "            pred_data_cl = pred_data.loc[pred_data['pred_labels'] == cl]\n",
    "            n_bboxes = pred_data_cl.shape[0]\n",
    "            TP = 0\n",
    "            FP = 0\n",
    "            # Check if positives are True or False\n",
    "            for _,pred_row in pred_data_cl.iterrows():\n",
    "                pred_bbox = pred_row['pred_bboxes']\n",
    "                img_num = pred_row['img_num']\n",
    "                true_data = True_Data.loc[True_Data['img_num'] == img_num]\n",
    "                true_data = true_data.loc[true_data['true_labels'] == cl]\n",
    "                n_true_bboxes = true_data.shape[0]\n",
    "                # Calculate iou between ground truth and predictions\n",
    "                max_iou = 0\n",
    "                for _,true_row in true_data.iterrows():\n",
    "                    true_bbox = true_row['true_bboxes']\n",
    "                    iou = bb_intersection_over_union(pred_bbox, true_bbox)\n",
    "                    if (iou > max_iou):\n",
    "                        max_iou = iou\n",
    "                if (max_iou >= mAP_thresh):\n",
    "                    TP += 1\n",
    "                elif (max_iou < mAP_thresh):\n",
    "                    FP += 1\n",
    "            if (n_bboxes > 0):\n",
    "                class_precision.append(TP/(TP+FP))\n",
    "                class_recall.append(TP/TP_FN[cl])\n",
    "        Precision[p-1] = sum(class_precision)/len(class_precision)\n",
    "        Recall[p-1] = sum(class_recall)/len(class_recall)\n",
    "        #print(time.time() - start_time)\n",
    "    \n",
    "    return Precision, Recall\n",
    "\n",
    "n_classes = 20\n",
    "class_labels = [i for i in range(n_classes)]\n",
    "Precision, Recall = calc_precision_recall(Predicted_Data, True_Data, class_labels)"
   ]
  },
  {
   "cell_type": "code",
   "execution_count": 24,
   "metadata": {},
   "outputs": [
    {
     "data": {
      "text/plain": [
       "[<matplotlib.lines.Line2D at 0x7fdeb3e099e8>]"
      ]
     },
     "execution_count": 24,
     "metadata": {},
     "output_type": "execute_result"
    },
    {
     "data": {
      "image/png": "[encoded data removed]",
      "text/plain": [
       "<Figure size 432x288 with 1 Axes>"
      ]
     },
     "metadata": {
      "needs_background": "light"
     },
     "output_type": "display_data"
    }
   ],
   "source": [
    "from matplotlib import pyplot as plt\n",
    "%matplotlib inline\n",
    "plt.plot(Recall, Precision, '.')\n"
   ]
  },
  {
   "cell_type": "code",
   "execution_count": null,
   "metadata": {},
   "outputs": [],
   "source": [
    "n_classes = 20\n",
    "class_labels = [i for i in range(n_classes)]\n",
    "#True_Positives = np.zeros((n_classes))\n",
    "#False_Positives = np.zeros((n_classes))\n",
    "#False_Negatives = np.zeros((n_classes))\n",
    "for minibatch_count, (img, true_bboxes, true_labels) in enumerate(test_loader, 0):\n",
    "    print(true_bboxes.shape, true_labels.shape)\n",
    "    pred_bboxes, pred_labels, pred_scores = trainer.faster_rcnn.predict(img,visualize=False, score_thresh=0.7)\n",
    "    true_bboxes, true_labels = true_bboxes.numpy()[0], true_labels.numpy()[0]\n",
    "    pred_bboxes, pred_labels = np.asarray(pred_bboxes)[0], np.asarray(pred_labels)[0]\n",
    "    TP, FP, FN = calc_TP_FP_FN((true_bboxes, true_labels), (pred_bboxes, pred_labels), class_labels)\n",
    "    True_Positives = np.add(True_Positives, TP)\n",
    "    False_Positives = np.add(False_Positives, FP)\n",
    "    False_Negatives = np.add(False_Negatives, FN)\n",
    "    #print(minibatch_count)\n",
    "    if minibatch_count > 1000:\n",
    "        break\n",
    "\n",
    "Precision = np.zeros((n_classes))\n",
    "Recall = np.zeros((n_classes))\n",
    "for i in range(n_classes):\n",
    "    if (True_Positives[i] + False_Positives[i]) != 0:\n",
    "        Precision[i] = True_Positives[i]/(True_Positives[i] + False_Positives[i])\n",
    "    if (True_Positives[i] + False_Negatives[i]) != 0:\n",
    "        Recall[i] = True_Positives[i]/(True_Positives[i] + False_Negatives[i])\n",
    "#np.divide(TP, np.add(TP, FP))\n",
    "#np.divide(TP, np.add(TP, FN))\n",
    "print(Precision)\n",
    "print(Recall)\n",
    "\n",
    "#start_time = time.time()\n",
    "#print(time.time() - start_time)"
   ]
  },
  {
   "cell_type": "code",
   "execution_count": null,
   "metadata": {},
   "outputs": [],
   "source": [
    "print(len(test_loader)*elapsed_time/3600)"
   ]
  },
  {
   "cell_type": "code",
   "execution_count": null,
   "metadata": {},
   "outputs": [],
   "source": [
    "### WRONG WAY ###\n",
    "\n",
    "n_classes = 20\n",
    "class_labels = [i for i in range(n_classes)]\n",
    "#True_Positives = np.zeros((n_classes))\n",
    "#False_Positives = np.zeros((n_classes))\n",
    "#False_Negatives = np.zeros((n_classes))\n",
    "score_thresh = [0.2, 0.4, 0.6, 0.8]\n",
    "Total_P = []\n",
    "Total_R = []\n",
    "for thresh in score_thresh:\n",
    "    for minibatch_count, (img, true_bboxes, true_labels) in enumerate(test_loader, 0):\n",
    "        pred_bboxes, pred_labels, pred_scores = trainer.faster_rcnn.predict(img,visualize=False, score_thresh=thresh)\n",
    "        true_bboxes, true_labels = true_bboxes.numpy()[0], true_labels.numpy()[0]\n",
    "        pred_bboxes, pred_labels = np.asarray(pred_bboxes)[0], np.asarray(pred_labels)[0]\n",
    "        TP, FP, FN = calc_TP_FP_FN((true_bboxes, true_labels), (pred_bboxes, pred_labels), class_labels)\n",
    "        True_Positives = np.add(True_Positives, TP)\n",
    "        False_Positives = np.add(False_Positives, FP)\n",
    "        False_Negatives = np.add(False_Negatives, FN)\n",
    "        #print(minibatch_count)\n",
    "        if minibatch_count > 100:\n",
    "            break\n",
    "    \n",
    "    Precision = np.zeros((n_classes))\n",
    "    Recall = np.zeros((n_classes))\n",
    "    for i in range(n_classes):\n",
    "        if (True_Positives[i] + False_Positives[i]) != 0:\n",
    "            Precision[i] = True_Positives[i]/(True_Positives[i] + False_Positives[i])\n",
    "        if (True_Positives[i] + False_Negatives[i]) != 0:\n",
    "            Recall[i] = True_Positives[i]/(True_Positives[i] + False_Negatives[i])\n",
    "    ave_precision = np.mean(Precision)\n",
    "    ave_recall = np.mean(Recall)\n",
    "    Total_P.append(ave_precision)\n",
    "    Total_R.append(ave_recall)\n",
    "    print('For score_thresh=%.2f, Precision=%.2f, Recall=%.2f' %(thresh, ave_precision, ave_recall))\n",
    "\n",
    "#np.divide(TP, np.add(TP, FP))\n",
    "#np.divide(TP, np.add(TP, FN))\n",
    "print(Precision)\n",
    "print(Recall)\n",
    "\n",
    "\n",
    "Precision = np.zeros((n_classes))\n",
    "Recall = np.zeros((n_classes))\n",
    "for i in range(n_classes):\n",
    "    if (True_Positives[i] + False_Positives[i]) != 0:\n",
    "        Precision[i] = True_Positives[i]/(True_Positives[i] + False_Positives[i])\n",
    "    if (True_Positives[i] + False_Negatives[i]) != 0:\n",
    "        Recall[i] = True_Positives[i]/(True_Positives[i] + False_Negatives[i])\n",
    "#np.divide(TP, np.add(TP, FP))\n",
    "#np.divide(TP, np.add(TP, FN))\n",
    "print(Precision)\n",
    "print(Recall)\n",
    "#images = 2*images/255 -1"
   ]
  },
  {
   "cell_type": "code",
   "execution_count": null,
   "metadata": {},
   "outputs": [],
   "source": [
    "from IoU import bb_intersection_over_union\n",
    "import numpy as np\n",
    "import time\n",
    "# loop over images\n",
    "def calc_TP_FP_FN(true_vals, predicted_vals, class_labels):\n",
    "    true_bbooxes, true_labels = true_vals\n",
    "    predicted_bboxes, predicted_labels = predicted_vals\n",
    "    mAP_thresh = 0.5\n",
    "    n_classes = len(class_labels)\n",
    "    TP = np.zeros((n_classes))\n",
    "    FP = np.zeros((n_classes))\n",
    "    FN = np.zeros((n_classes))\n",
    "    n_pred_bboxes = predicted_bboxes.shape[0]\n",
    "    for c in class_labels:\n",
    "        class_ind = (true_labels == c)\n",
    "        n_bboxes = np.sum(class_ind)\n",
    "        class_bboxes = true_bbooxes[class_ind]\n",
    "        for b in range(n_bboxes):\n",
    "            # Calculate iou between ground truth and predictions\n",
    "            iou = np.zeros((n_pred_bboxes))\n",
    "            for pb in range(n_pred_bboxes):\n",
    "                iou[pb] = bb_intersection_over_union(class_bboxes[b], predicted_bboxes[pb])\n",
    "            # Calculate True Positives\n",
    "            n_true_pos = np.sum(np.logical_and(predicted_labels == c, iou >= mAP_thresh))\n",
    "            if n_true_pos == 1:\n",
    "                TP[c] += 1\n",
    "            elif n_true_pos > 1:\n",
    "                TP[c] += 1\n",
    "                FP[c] += n_true_pos - 1\n",
    "            else:\n",
    "                FN[c] += 1\n",
    "            # Calculate False Positives\n",
    "            n_false_pos = np.sum(np.logical_and(predicted_labels != c, iou >= mAP_thresh))\n",
    "            FP[c] += n_false_pos\n",
    "            \n",
    "    return (TP, FP, FN)\n",
    "\n",
    "class_labels = [i for i in range(20)]\n",
    "\n",
    "img, true_bboxes, true_labels = next(iter(test_loader))\n",
    "\n",
    "pred_bboxes, pred_labels, pred_scores = trainer.faster_rcnn.predict(img,visualize=False, score_thresh=0.7)\n",
    "true_bboxes, true_labels = true_bboxes.numpy()[0], true_labels.numpy()[0]\n",
    "pred_bboxes, pred_labels = np.asarray(pred_bboxes)[0], np.asarray(pred_labels)[0]\n",
    "\n",
    "\n",
    "calc_TP_FP_FN((true_bboxes, true_labels), (pred_bboxes, pred_labels), class_labels)\n",
    "\n",
    "# it takes .2 seconds to load data and .6 seconds to run prediction"
   ]
  },
  {
   "cell_type": "code",
   "execution_count": null,
   "metadata": {},
   "outputs": [],
   "source": []
  },
  {
   "cell_type": "code",
   "execution_count": null,
   "metadata": {},
   "outputs": [],
   "source": []
  },
  {
   "cell_type": "code",
   "execution_count": null,
   "metadata": {},
   "outputs": [],
   "source": []
  },
  {
   "cell_type": "code",
   "execution_count": null,
   "metadata": {},
   "outputs": [],
   "source": []
  },
  {
   "cell_type": "code",
   "execution_count": null,
   "metadata": {},
   "outputs": [],
   "source": []
  },
  {
   "cell_type": "code",
   "execution_count": null,
   "metadata": {},
   "outputs": [],
   "source": []
  },
  {
   "cell_type": "code",
   "execution_count": null,
   "metadata": {},
   "outputs": [],
   "source": []
  },
  {
   "cell_type": "code",
   "execution_count": null,
   "metadata": {},
   "outputs": [],
   "source": []
  },
  {
   "cell_type": "code",
   "execution_count": null,
   "metadata": {},
   "outputs": [],
   "source": []
  },
  {
   "cell_type": "code",
   "execution_count": null,
   "metadata": {},
   "outputs": [],
   "source": []
  },
  {
   "cell_type": "code",
   "execution_count": null,
   "metadata": {},
   "outputs": [],
   "source": []
  }
 ],
 "metadata": {
  "kernelspec": {
   "display_name": "Python 3",
   "language": "python",
   "name": "python3"
  },
  "language_info": {
   "codemirror_mode": {
    "name": "ipython",
    "version": 3
   },
   "file_extension": ".py",
   "mimetype": "text/x-python",
   "name": "python",
   "nbconvert_exporter": "python",
   "pygments_lexer": "ipython3",
   "version": "3.6.8"
  }
 },
 "nbformat": 4,
 "nbformat_minor": 2
}
